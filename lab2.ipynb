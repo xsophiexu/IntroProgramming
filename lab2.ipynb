{
 "cells": [
  {
   "cell_type": "code",
   "execution_count": null,
   "id": "statutory-confirmation",
   "metadata": {},
   "outputs": [],
   "source": [
    "#Author: Sophie Xu\n",
    "#Lab 2 06.03.21"
   ]
  },
  {
   "cell_type": "code",
   "execution_count": 23,
   "id": "unusual-action",
   "metadata": {},
   "outputs": [
    {
     "name": "stdin",
     "output_type": "stream",
     "text": [
      "Enter a language:  en\n"
     ]
    },
    {
     "name": "stdout",
     "output_type": "stream",
     "text": [
      "Hello, world!\n"
     ]
    }
   ],
   "source": [
    "#1a. Language\n",
    "lang = input(\"Enter a language: \");\n",
    "if (lang == 'en'):\n",
    "    print(\"Hello, world!\");\n",
    "elif (lang == 'es'):\n",
    "    print(\"¡Hola mundo!\");\n",
    "else:\n",
    "    print(\"unaccepted language\");"
   ]
  },
  {
   "cell_type": "code",
   "execution_count": 24,
   "id": "protected-demonstration",
   "metadata": {},
   "outputs": [
    {
     "name": "stdin",
     "output_type": "stream",
     "text": [
      "Enter a number:  9\n"
     ]
    },
    {
     "name": "stdout",
     "output_type": "stream",
     "text": [
      "Odd\n"
     ]
    }
   ],
   "source": [
    "#1b. Parity\n",
    "number = int(input(\"Enter a number: \"));\n",
    "if number%2 == 0:\n",
    "    print(\"Even\");\n",
    "elif number%2 == 1:\n",
    "    print(\"Odd\");"
   ]
  },
  {
   "cell_type": "code",
   "execution_count": 25,
   "id": "super-helena",
   "metadata": {},
   "outputs": [
    {
     "name": "stdin",
     "output_type": "stream",
     "text": [
      "Please enter your name:  Sophie\n",
      "Please enter your graduation year:  2024\n",
      "Please enter current year:  2021\n"
     ]
    },
    {
     "name": "stdout",
     "output_type": "stream",
     "text": [
      "Sophie is a sophomore\n"
     ]
    }
   ],
   "source": [
    "#2 Graduation\n",
    "name = input(\"Please enter your name: \");\n",
    "gradYear = int(input(\"Please enter your graduation year: \"));\n",
    "currentYear = int(input(\"Please enter current year: \"));\n",
    "\n",
    "difference = gradYear- currentYear;\n",
    "if difference <= 0:\n",
    "    status = \"graduated\";\n",
    "elif difference == 4:\n",
    "    status = \"a freshman\";\n",
    "elif difference == 3:\n",
    "    status = \"a sophomore\";\n",
    "elif difference == 2:\n",
    "    status = \"a junior\";\n",
    "elif difference == 1:\n",
    "    status = \"a senior\";\n",
    "else:\n",
    "    status = \"not in college\";\n",
    "print (name,\"is\",status);"
   ]
  },
  {
   "cell_type": "code",
   "execution_count": 26,
   "id": "special-chapter",
   "metadata": {},
   "outputs": [
    {
     "name": "stdin",
     "output_type": "stream",
     "text": [
      "Please enter the first leg:  3\n",
      "Please enter the second leg:  4\n",
      "Please enter the hypotenuse:  5\n"
     ]
    },
    {
     "name": "stdout",
     "output_type": "stream",
     "text": [
      "3, 4 and 5 form a right triangle.\n"
     ]
    }
   ],
   "source": [
    "#3 Triangle?\n",
    "side1 = int(input(\"Please enter the first leg: \"));\n",
    "side2 = int(input(\"Please enter the second leg: \"));\n",
    "side3 = int(input(\"Please enter the hypotenuse: \"));\n",
    "\n",
    "if side1**2 + side2**2 == side3**2:\n",
    "    state = \" form\";\n",
    "else:\n",
    "    state = \" do not form\";\n",
    "\n",
    "print(side1,\", \",side2,\" and \",side3,state,\" a right triangle.\",sep = \"\");"
   ]
  },
  {
   "cell_type": "code",
   "execution_count": 27,
   "id": "uniform-marble",
   "metadata": {},
   "outputs": [
    {
     "name": "stdin",
     "output_type": "stream",
     "text": [
      "Please enter a:  6\n",
      "Please enter b:  2\n"
     ]
    },
    {
     "name": "stdout",
     "output_type": "stream",
     "text": [
      "The equation has one solution and x = -0.3333333333333333\n"
     ]
    }
   ],
   "source": [
    "#4 Solve ax + b = 0, solvability = \"infinite solutions\";\n",
    "a = int(input(\"Please enter a: \"));\n",
    "b = int(input(\"Please enter b: \"));\n",
    "\n",
    "if a == 0:\n",
    "    solvability = \"no solutions\";\n",
    "    if b == 0:\n",
    "        solvability = \"infinite solutions\";\n",
    "else:\n",
    "    solvability = \"one solution\";\n",
    "    x = -b/(a);\n",
    "\n",
    "print(\"The equation has\",solvability,\"and x =\",x);"
   ]
  },
  {
   "cell_type": "code",
   "execution_count": 29,
   "id": "european-attachment",
   "metadata": {},
   "outputs": [
    {
     "name": "stdin",
     "output_type": "stream",
     "text": [
      "Please enter a weight in pounds:  1\n"
     ]
    },
    {
     "name": "stdout",
     "output_type": "stream",
     "text": [
      "1 pounds is equivalent to 16 ounces or 0.45 kilograms\n"
     ]
    }
   ],
   "source": [
    "#5 output in ounces and kilos\n",
    "lb = int(input(\"Please enter a weight in pounds: \"));\n",
    "kg = lb*0.45;\n",
    "oz = lb*16;\n",
    "\n",
    "print(lb,\"pounds is equivalent to\",oz,\"ounces or\",kg,\"kilograms\"); "
   ]
  },
  {
   "cell_type": "code",
   "execution_count": 30,
   "id": "accurate-announcement",
   "metadata": {},
   "outputs": [
    {
     "name": "stdin",
     "output_type": "stream",
     "text": [
      "Enter the number of sides:  4\n",
      "Are the sides equal? (Y/N):  N\n",
      "Are the angles 90 degrees? (Y/N):  Y\n"
     ]
    },
    {
     "name": "stdout",
     "output_type": "stream",
     "text": [
      "The shape is a rectangle\n"
     ]
    }
   ],
   "source": [
    "#6 Shape\n",
    "sideNum = int(input(\"Enter the number of sides: \"));\n",
    "\n",
    "if sideNum == 5:\n",
    "    shape = \"pentagon\";\n",
    "elif sideNum == 3:\n",
    "    shape = \"triangle\";\n",
    "elif sideNum == 4:\n",
    "    equal = input(\"Are the sides equal? (Y/N): \");\n",
    "    if equal == \"N\":\n",
    "        angles = input(\"Are the angles 90 degrees? (Y/N): \");\n",
    "        if angles == \"N\":\n",
    "            shape = \"quadrilateral\";\n",
    "        elif angles == \"Y\":\n",
    "            shape = \"rectangle\";\n",
    "    elif equal == \"Y\":\n",
    "        shape = \"square\";\n",
    "\n",
    "print(\"The shape is a\",shape);"
   ]
  },
  {
   "cell_type": "code",
   "execution_count": 32,
   "id": "constant-version",
   "metadata": {},
   "outputs": [
    {
     "name": "stdin",
     "output_type": "stream",
     "text": [
      "Please enter time in 24 hr format:  1008\n"
     ]
    },
    {
     "name": "stdout",
     "output_type": "stream",
     "text": [
      "1008 in a 12 hr format is: 10:08am\n"
     ]
    }
   ],
   "source": [
    "#7 time conversion\n",
    "\n",
    "time = int(input(\"Please enter time in 24 hr format: \"));\n",
    "\n",
    "temp = time;\n",
    "if time>=1200:\n",
    "    unit = \"pm\";\n",
    "    if time >= 1300:\n",
    "        temp = time - 1200;\n",
    "else:\n",
    "    unit = \"am\";\n",
    "\n",
    "hour = temp//100;\n",
    "minute = temp%100;\n",
    "if minute < 10:\n",
    "    minute = \"0\" + str(minute);\n",
    "\n",
    "print(time,\" in a 12 hr format is: \",hour,\":\",minute,unit,sep =\"\");"
   ]
  },
  {
   "cell_type": "code",
   "execution_count": null,
   "id": "popular-inside",
   "metadata": {},
   "outputs": [],
   "source": []
  }
 ],
 "metadata": {
  "kernelspec": {
   "display_name": "Python 3.7 (XPython)",
   "language": "python",
   "name": "xpython"
  },
  "language_info": {
   "file_extension": ".py",
   "mimetype": "text/x-python",
   "name": "python",
   "version": "3.7.9"
  }
 },
 "nbformat": 4,
 "nbformat_minor": 5
}
